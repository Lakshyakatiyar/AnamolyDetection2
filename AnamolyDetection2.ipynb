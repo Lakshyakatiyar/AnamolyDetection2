{
 "cells": [
  {
   "cell_type": "raw",
   "id": "0d8d4e2d-6c87-45b1-bc6a-bd2c666ea572",
   "metadata": {},
   "source": [
    "1.Role of feature selection in anomaly detection:\n",
    "Feature selection plays a crucial role in anomaly detection as it helps in identifying the most relevant features that contribute to distinguishing between normal and anomalous behavior. By selecting the right features, the anomaly detection algorithm can focus on detecting deviations in those specific aspects, improving detection accuracy and efficiency."
   ]
  },
  {
   "cell_type": "raw",
   "id": "2bfc8489-f2a1-4e81-adc1-eb099531337b",
   "metadata": {},
   "source": [
    "2.Common evaluation metrics for anomaly detection algorithms:\n",
    "Common evaluation metrics include precision, recall, F1-score, accuracy, area under the receiver operating characteristic curve (AUC-ROC), and area under the precision-recall curve (AUC-PR). These metrics are computed based on the predictions made by the anomaly detection algorithm compared to the ground truth labels."
   ]
  },
  {
   "cell_type": "raw",
   "id": "aaac7083-1d97-46c5-899e-5b4b570f0c4e",
   "metadata": {},
   "source": [
    "3.DBSCAN and its working for clustering:\n",
    "DBSCAN (Density-Based Spatial Clustering of Applications with Noise) is a clustering algorithm that groups together points that are closely packed based on a density criterion. It works by identifying core points, border points, and noise points in the dataset to form clusters."
   ]
  },
  {
   "cell_type": "raw",
   "id": "a472db31-76f3-446e-a9be-ba2c69819ec6",
   "metadata": {},
   "source": [
    "4.Effect of the epsilon parameter on DBSCAN performance:\n",
    "The epsilon parameter in DBSCAN determines the maximum distance between two points for them to be considered as neighbors. It significantly affects the clustering outcome and the ability of DBSCAN to detect anomalies. Choosing an appropriate epsilon value is crucial, as it determines the density of the clusters and impacts the identification of noise points and outliers."
   ]
  },
  {
   "cell_type": "raw",
   "id": "2009043f-3601-4664-ab9c-b72282c267ca",
   "metadata": {},
   "source": [
    "5.Differences between core, border, and noise points in DBSCAN:\n",
    "\n",
    "Core points: Points that have at least a minimum number of points (MinPts) within a specified distance (epsilon).\n",
    "Border points: Points that are within the epsilon distance of a core point but do not have enough neighbors to be considered core points themselves.\n",
    "Noise points: Points that do not belong to any cluster because they are neither core nor border points."
   ]
  },
  {
   "cell_type": "raw",
   "id": "eca3ae79-7722-4458-b6c0-346bcb112f9c",
   "metadata": {},
   "source": [
    "6.DBSCAN detects anomalies by considering points that are not assigned to any cluster as noise points. Key parameters involved are epsilon (maximum distance between points) and MinPts (minimum number of points within epsilon distance)."
   ]
  },
  {
   "cell_type": "raw",
   "id": "bdf0e6bd-5201-4c10-8d40-4f4d3000be8e",
   "metadata": {},
   "source": [
    "7.make_circles package in scikit-learn:\n",
    "The make_circles package in scikit-learn is used to generate synthetic datasets containing concentric circles. It's often used for testing and illustrating clustering algorithms."
   ]
  },
  {
   "cell_type": "code",
   "execution_count": null,
   "id": "d4a13a65-53ed-4644-a2f2-c05ba108ffa0",
   "metadata": {},
   "outputs": [],
   "source": [
    "8."
   ]
  }
 ],
 "metadata": {
  "kernelspec": {
   "display_name": "Python 3 (ipykernel)",
   "language": "python",
   "name": "python3"
  },
  "language_info": {
   "codemirror_mode": {
    "name": "ipython",
    "version": 3
   },
   "file_extension": ".py",
   "mimetype": "text/x-python",
   "name": "python",
   "nbconvert_exporter": "python",
   "pygments_lexer": "ipython3",
   "version": "3.10.8"
  }
 },
 "nbformat": 4,
 "nbformat_minor": 5
}
